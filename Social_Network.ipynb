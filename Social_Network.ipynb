{
  "nbformat": 4,
  "nbformat_minor": 0,
  "metadata": {
    "colab": {
      "provenance": []
    },
    "kernelspec": {
      "name": "python3",
      "display_name": "Python 3"
    },
    "language_info": {
      "name": "python"
    }
  },
  "cells": [
    {
      "cell_type": "markdown",
      "source": [
        "## **Social Network Analysis**"
      ],
      "metadata": {
        "id": "9O8XeOXmT1W2"
      }
    },
    {
      "cell_type": "code",
      "source": [
        "!apt-get install openjdk-8-jdk-headless -qq > /dev/null # Install Java\n",
        "!wget -q https://archive.apache.org/dist/spark/spark-3.4.1/spark-3.4.1-bin-hadoop3.tgz # Install Apache Spark\n",
        "!tar xf spark-3.4.1-bin-hadoop3.tgz\n",
        "!pip install -q findspark\n",
        "!pip install pyspark\n",
        "\n",
        "import os\n",
        "from pyspark.sql import SparkSession\n",
        "\n",
        "os.environ[\"JAVA_HOME\"] = \"/usr/lib/jvm/java-8-openjdk-amd64\"\n",
        "os.environ[\"SPARK_HOME\"] = \"/content/spark-3.4.1-bin-hadoop3\"\n",
        "\n",
        "import findspark\n",
        "findspark.init()\n",
        "\n",
        "# Initialize Spark session with GraphFrames package from the new repository\n",
        "spark = SparkSession.builder \\\n",
        "    .appName(\"Venmo Transactions\") \\\n",
        "    .config(\"spark.jars.packages\", \"graphframes:graphframes:0.8.3-spark3.0-s_2.12\") \\\n",
        "    .config(\"spark.jars.repositories\", \"https://repos.spark-packages.org/\") \\\n",
        "    .getOrCreate()\n",
        "\n",
        "# Import GraphFrame after the session is created\n",
        "from graphframes import GraphFrame"
      ],
      "metadata": {
        "colab": {
          "base_uri": "https://localhost:8080/"
        },
        "id": "j9w-hSspHE01",
        "outputId": "e9e0e82e-7278-4244-9c52-2e8cf02c1ff8"
      },
      "execution_count": null,
      "outputs": [
        {
          "output_type": "stream",
          "name": "stdout",
          "text": [
            "Requirement already satisfied: pyspark in /usr/local/lib/python3.10/dist-packages (3.5.1)\n",
            "Requirement already satisfied: py4j==0.10.9.7 in /usr/local/lib/python3.10/dist-packages (from pyspark) (0.10.9.7)\n"
          ]
        }
      ]
    },
    {
      "cell_type": "code",
      "source": [
        "!pip install graphframes"
      ],
      "metadata": {
        "colab": {
          "base_uri": "https://localhost:8080/"
        },
        "id": "ujHTpEKuDr4k",
        "outputId": "7919fbec-a972-485d-ec7e-0f652c2d7743"
      },
      "execution_count": null,
      "outputs": [
        {
          "output_type": "stream",
          "name": "stdout",
          "text": [
            "Requirement already satisfied: graphframes in /usr/local/lib/python3.10/dist-packages (0.6)\n",
            "Requirement already satisfied: numpy in /usr/local/lib/python3.10/dist-packages (from graphframes) (1.25.2)\n",
            "Requirement already satisfied: nose in /usr/local/lib/python3.10/dist-packages (from graphframes) (1.3.7)\n"
          ]
        }
      ]
    },
    {
      "cell_type": "code",
      "source": [
        "!pip install emoji"
      ],
      "metadata": {
        "colab": {
          "base_uri": "https://localhost:8080/"
        },
        "id": "1u4qLVuO1Onc",
        "outputId": "cb843d78-76e0-4027-91f2-58ea6ec990dc"
      },
      "execution_count": null,
      "outputs": [
        {
          "output_type": "stream",
          "name": "stdout",
          "text": [
            "Collecting emoji\n",
            "  Downloading emoji-2.12.1-py3-none-any.whl (431 kB)\n",
            "\u001b[?25l     \u001b[90m━━━━━━━━━━━━━━━━━━━━━━━━━━━━━━━━━━━━━━━━\u001b[0m \u001b[32m0.0/431.4 kB\u001b[0m \u001b[31m?\u001b[0m eta \u001b[36m-:--:--\u001b[0m\r\u001b[2K     \u001b[91m━━━━━━━━━━━━━━━━\u001b[0m\u001b[90m╺\u001b[0m\u001b[90m━━━━━━━━━━━━━━━━━━━━━━━\u001b[0m \u001b[32m174.1/431.4 kB\u001b[0m \u001b[31m5.4 MB/s\u001b[0m eta \u001b[36m0:00:01\u001b[0m\r\u001b[2K     \u001b[90m━━━━━━━━━━━━━━━━━━━━━━━━━━━━━━━━━━━━━━━━\u001b[0m \u001b[32m431.4/431.4 kB\u001b[0m \u001b[31m6.3 MB/s\u001b[0m eta \u001b[36m0:00:00\u001b[0m\n",
            "\u001b[?25hRequirement already satisfied: typing-extensions>=4.7.0 in /usr/local/lib/python3.10/dist-packages (from emoji) (4.11.0)\n",
            "Installing collected packages: emoji\n",
            "Successfully installed emoji-2.12.1\n"
          ]
        }
      ]
    },
    {
      "cell_type": "code",
      "source": [
        "import pandas as pd\n",
        "import re\n",
        "import emoji\n",
        "from collections import Counter\n",
        "from pyspark.sql import SparkSession\n",
        "from pyspark.sql.functions import udf, col, lit, array, explode, collect_list, collect_set, array_distinct, flatten, array_remove, struct, count, sum as sql_sum, months_between, min, ceil, to_date, avg, stddev, size\n",
        "from pyspark.sql.types import StringType, ArrayType, IntegerType, StructType, StructField, FloatType\n",
        "import matplotlib.pyplot as plt\n",
        "from pyspark.sql.window import Window"
      ],
      "metadata": {
        "id": "Mr4Z6dc4wqp6"
      },
      "execution_count": null,
      "outputs": []
    },
    {
      "cell_type": "code",
      "source": [
        "from google.colab import drive\n",
        "drive.mount('/content/drive')"
      ],
      "metadata": {
        "colab": {
          "base_uri": "https://localhost:8080/"
        },
        "id": "RQ8jwwmxxTA2",
        "outputId": "df915120-7402-419b-966c-ba7227ca9e3d"
      },
      "execution_count": null,
      "outputs": [
        {
          "output_type": "stream",
          "name": "stdout",
          "text": [
            "Mounted at /content/drive\n"
          ]
        }
      ]
    },
    {
      "cell_type": "code",
      "source": [
        "drive_path = '/content/drive/My Drive/VenmoSample.snappy.parquet'\n",
        "venmo_data = spark.read.parquet(drive_path)"
      ],
      "metadata": {
        "id": "d5wKyA5LzYeV"
      },
      "execution_count": null,
      "outputs": []
    },
    {
      "cell_type": "code",
      "source": [
        "venmo_data.show(20)"
      ],
      "metadata": {
        "colab": {
          "base_uri": "https://localhost:8080/"
        },
        "id": "OSYXgWTi1cht",
        "outputId": "078d9577-20ba-4cdc-f43b-ad34974cfd97"
      },
      "execution_count": null,
      "outputs": [
        {
          "output_type": "stream",
          "name": "stdout",
          "text": [
            "+--------+-------+----------------+-------------------+--------------------+-----------+--------------------+\n",
            "|   user1|  user2|transaction_type|           datetime|         description|is_business|            story_id|\n",
            "+--------+-------+----------------+-------------------+--------------------+-----------+--------------------+\n",
            "| 1218774|1528945|         payment|2015-11-27 10:48:19|                Uber|      false|5657c473cd03c9af2...|\n",
            "| 5109483|4782303|         payment|2015-06-17 11:37:04|              Costco|      false|5580f9702b64f70ab...|\n",
            "| 4322148|3392963|         payment|2015-06-19 07:05:31|        Sweaty balls|      false|55835ccb1a624b14a...|\n",
            "|  469894|1333620|          charge|2016-06-03 23:34:13|                  🎥|      false|5751b185cd03c9af2...|\n",
            "| 2960727|3442373|         payment|2016-05-29 23:23:42|                   ⚡|      false|574b178ecd03c9af2...|\n",
            "| 3977544|2709470|         payment|2016-09-29 22:12:07|          Chipotlaid|      false|57ed2f4723e064eac...|\n",
            "| 3766386|4209061|         payment|2016-05-20 10:31:15|     kitchen counter|      false|573e8503cd03c9af2...|\n",
            "|  730075| 804466|         payment|2016-05-26 04:46:45|                Food|      false|57461d46cd03c9af2...|\n",
            "| 5221751|4993533|         payment|2016-07-14 22:53:49|               Zaxby|      false|5787b58d23e064eac...|\n",
            "| 6843582|7308338|         payment|2016-08-31 10:32:46|           Fan sucks|      false|57c64fdf23e064eac...|\n",
            "| 5317324|3942984|         payment|2016-01-04 09:11:25|                  👠|      false|5689c6bdcd03c9af2...|\n",
            "| 1134661|1556430|         payment|2015-10-09 01:53:52|         Thanks babe|      false|5616bbc0cd03c9af2...|\n",
            "| 4238868|4879587|         payment|2015-10-04 08:28:01|                  🍺|      false|561080a1cd03c9af2...|\n",
            "|11719500|8702716|         payment|2016-07-07 21:40:39|                   ⛽|      false|577e69e723e064eac...|\n",
            "| 3625798|5692302|         payment|2016-10-16 14:43:41|Hey man  it's bee...|      false|58032fad23e064eac...|\n",
            "|  613908|3045405|          charge|2016-05-07 06:42:17|         Getaway car|      false|572d2bd9cd03c9af2...|\n",
            "| 4682257|1870271|         payment|2016-02-24 09:14:12|     🔮 gypsy things|      false|56cd03e4cd03c9af2...|\n",
            "| 9414481|2869012|         payment|2016-04-09 09:19:46|                  🔴|      false|570866c2cd03c9af2...|\n",
            "|  241386|2580543|         payment|2015-05-17 06:00:19|           Furniture|      false|5557cc0407f81c33e...|\n",
            "|  656477| 656214|          charge|2013-12-14 22:43:27|bed bath mostly b...|      false|52ac6e93d56b6bac5...|\n",
            "+--------+-------+----------------+-------------------+--------------------+-----------+--------------------+\n",
            "only showing top 20 rows\n",
            "\n"
          ]
        }
      ]
    },
    {
      "cell_type": "markdown",
      "source": [
        "#### **Write a script to find a user’s friends and friends of friends (Friend definition: A user’s friend is someone who has transacted with the user, either sending money to the user or receiving money from the user). Describe your algorithm and calculate its computational complexity. Can you do it better?**"
      ],
      "metadata": {
        "id": "b5NtVV1oUPd_"
      }
    },
    {
      "cell_type": "markdown",
      "source": [
        "\n",
        "Algorithm:\n",
        "\n",
        "- Filter Transactions: Extract all transactions involving the given user (either as the sender or receiver).\n",
        "\n",
        "- Extract Friends: From the filtered transactions, identify distinct friends of the user. This is achieved by checking which user is not the given user in each transaction, as the other user in the transaction is considered a friend.\n",
        "\n",
        "- Extract Friends of Friends: Join the identified friends with the original transaction data to find all transactions involving these friends.\n",
        "From these transactions, identify the friends of friends by selecting users who are not the original friend in each transaction. Ensure that these friends of friends are distinct.\n",
        "\n",
        "- Remove Duplicates: Remove any users who are both friends and friends of friends to ensure the lists are mutually exclusive."
      ],
      "metadata": {
        "id": "F6HNzcnpR_ud"
      }
    },
    {
      "cell_type": "code",
      "source": [
        "def find_friends_and_friends_of_friends(user_id):\n",
        "    # Filter transactions involving the given user\n",
        "    user_transactions = venmo_data \\\n",
        "        .filter((venmo_data.user1 == user_id) | (venmo_data.user2 == user_id))\n",
        "\n",
        "    # Extract distinct friends\n",
        "    friends = user_transactions \\\n",
        "        .selectExpr(\"case when user1 = {} then user2 else user1 end as friend\".format(user_id)) \\\n",
        "        .distinct()\n",
        "\n",
        "    # Extract distinct friends of friends\n",
        "    friends_of_friends = friends \\\n",
        "        .join(venmo_data, (friends.friend == venmo_data.user1) | (friends.friend == venmo_data.user2)) \\\n",
        "        .selectExpr(\"case when user1 = friend then user2 else user1 end as friend_of_friend\") \\\n",
        "        .distinct()\n",
        "\n",
        "    # Remove duplicates\n",
        "    friends_of_friends = friends_of_friends.subtract(friends)\n",
        "\n",
        "    return friends, friends_of_friends\n",
        "\n",
        "# Let's check this function for a sample user\n",
        "user_id = 1218774\n",
        "user_friends, user_friends_of_friends = find_friends_and_friends_of_friends(user_id)\n",
        "print(\"User's Friends:\")\n",
        "user_friends.show()\n",
        "print(\"User's Friends of Friends:\")\n",
        "user_friends_of_friends.show()"
      ],
      "metadata": {
        "colab": {
          "base_uri": "https://localhost:8080/"
        },
        "id": "bY-aI9Lk5xOx",
        "outputId": "fd98cb57-3cbd-4a86-d30c-a8907a55395b"
      },
      "execution_count": null,
      "outputs": [
        {
          "output_type": "stream",
          "name": "stdout",
          "text": [
            "User's Friends:\n",
            "+-------+\n",
            "| friend|\n",
            "+-------+\n",
            "|6784812|\n",
            "|2299797|\n",
            "|1528945|\n",
            "| 825037|\n",
            "|2248062|\n",
            "+-------+\n",
            "\n",
            "User's Friends of Friends:\n",
            "+----------------+\n",
            "|friend_of_friend|\n",
            "+----------------+\n",
            "|         2366018|\n",
            "|          974023|\n",
            "|         1218774|\n",
            "|          473667|\n",
            "|         1282126|\n",
            "|          502595|\n",
            "|         3485121|\n",
            "|         3703726|\n",
            "|         4873067|\n",
            "|         2420441|\n",
            "|         4159821|\n",
            "|         4616676|\n",
            "|         8718297|\n",
            "|         2468982|\n",
            "|        10549093|\n",
            "|         2097475|\n",
            "|         8747467|\n",
            "|        11265984|\n",
            "|         4445092|\n",
            "|          694525|\n",
            "+----------------+\n",
            "only showing top 20 rows\n",
            "\n"
          ]
        }
      ]
    },
    {
      "cell_type": "markdown",
      "source": [
        "Computational Complexity:\n",
        "\n",
        "- Filtering Transactions: This step involves scanning the entire dataset to find transactions involving the user. If there are T transactions, this step is O(T).\n",
        "\n",
        "- Extracting Friends: Extracting distinct friends involves checking each transaction involving the user, leading to a complexity of O(F), where\n",
        "F is the number of friends (transactions involving the user).\n",
        "\n",
        "- Extracting Friends of Friends: This step involves joining the friends with the transaction dataset and can be approximated as O(F×T), where F is the number of friends and T is the number of transactions.\n",
        "\n",
        "- Removing Duplicates: Removing duplicates involves a set difference operation, which is O(FF), where FF is the number of friends of friends."
      ],
      "metadata": {
        "id": "_dNH8I_3Srcj"
      }
    },
    {
      "cell_type": "markdown",
      "source": [
        "We can improve this algorithm by reducing redundant operations and ensuring efficient joins. One possible optimization is to limit the dataset size in joins by pre-filtering relevant transactions."
      ],
      "metadata": {
        "id": "ugKfdz9CTI9J"
      }
    },
    {
      "cell_type": "markdown",
      "source": [
        "Complexity of the improve algorithm:\n",
        "\n",
        "- Filtering Transactions:\n",
        "O(T) for initial user transactions and filtering transactions for friends.\n",
        "\n",
        "- Extracting Friends: O(F).\n",
        "\n",
        "- Extracting Friends of Friends: Reduced to O(T′), where T′ is the subset of transactions involving friends, typically much smaller than T.\n",
        "\n",
        "- Removing Duplicates: O(FF)."
      ],
      "metadata": {
        "id": "spl45kdnTUEV"
      }
    },
    {
      "cell_type": "markdown",
      "source": [
        "Improved code:"
      ],
      "metadata": {
        "id": "KQOvoMpPTyP3"
      }
    },
    {
      "cell_type": "code",
      "source": [
        "def find_friends_and_friends_of_friends_optimized(user_id):\n",
        "    # Filter transactions involving the given user\n",
        "    user_transactions = venmo_data \\\n",
        "        .filter((venmo_data.user1 == user_id) | (venmo_data.user2 == user_id))\n",
        "\n",
        "    # Extract distinct friends\n",
        "    friends = user_transactions \\\n",
        "        .selectExpr(\"case when user1 = {} then user2 else user1 end as friend\".format(user_id)) \\\n",
        "        .distinct()\n",
        "\n",
        "    # Filter transactions involving friends\n",
        "    friend_ids = friends.rdd.map(lambda row: row.friend).collect()\n",
        "    friends_transactions = venmo_data \\\n",
        "        .filter((venmo_data.user1.isin(friend_ids)) | (venmo_data.user2.isin(friend_ids)))\n",
        "\n",
        "    # Extract distinct friends of friends\n",
        "    friends_of_friends = friends_transactions \\\n",
        "        .selectExpr(\"case when user1 in ({}) then user2 else user1 end as friend_of_friend\".format(\",\".join(map(str, friend_ids)))) \\\n",
        "        .distinct()\n",
        "\n",
        "    # Remove duplicates\n",
        "    friends_of_friends = friends_of_friends.subtract(friends)\n",
        "\n",
        "    return friends, friends_of_friends\n",
        "\n",
        "# Let's check this function for a sample user\n",
        "user_id = 1218774\n",
        "user_friends, user_friends_of_friends = find_friends_and_friends_of_friends_optimized(user_id)\n",
        "print(\"User's Friends:\")\n",
        "user_friends.show()\n",
        "print(\"User's Friends of Friends:\")\n",
        "user_friends_of_friends.show()"
      ],
      "metadata": {
        "colab": {
          "base_uri": "https://localhost:8080/"
        },
        "id": "J8xgU2NPR3Ra",
        "outputId": "1568d0d2-a377-4fb4-8ab5-499c6ff18911"
      },
      "execution_count": null,
      "outputs": [
        {
          "output_type": "stream",
          "name": "stdout",
          "text": [
            "User's Friends:\n",
            "+-------+\n",
            "| friend|\n",
            "+-------+\n",
            "|6784812|\n",
            "|2299797|\n",
            "|1528945|\n",
            "| 825037|\n",
            "|2248062|\n",
            "+-------+\n",
            "\n",
            "User's Friends of Friends:\n",
            "+----------------+\n",
            "|friend_of_friend|\n",
            "+----------------+\n",
            "|         2366018|\n",
            "|          974023|\n",
            "|         1094209|\n",
            "|         1218774|\n",
            "|          473667|\n",
            "|          963800|\n",
            "|         3953567|\n",
            "|         1282126|\n",
            "|          502595|\n",
            "|         3485121|\n",
            "|         3703726|\n",
            "|         1682016|\n",
            "|         2760507|\n",
            "|         4873067|\n",
            "|         2420441|\n",
            "|         1597784|\n",
            "|         1098208|\n",
            "|          921063|\n",
            "|         4159821|\n",
            "|         3414812|\n",
            "+----------------+\n",
            "only showing top 20 rows\n",
            "\n"
          ]
        }
      ]
    },
    {
      "cell_type": "markdown",
      "source": [
        "#### **Now, that you have the list of each user’s friends and friends of friends, you are in position to calculate many social network variables. Use the dynamic analysis from before, and calculate the following social network metrics across a user’s lifetime in Venmo (from 0 up to 12 months).**\n",
        "\n",
        "#### **i) Number of friends and number of friends of friends.**"
      ],
      "metadata": {
        "id": "5Nw2NBaXU0Rf"
      }
    },
    {
      "cell_type": "code",
      "source": [
        "from pyspark.sql.functions import month, year\n",
        "from datetime import datetime\n",
        "from dateutil.relativedelta import relativedelta\n",
        "import calendar\n",
        "\n",
        "def calculate_social_network_metrics(user_id, start_date=None, venmo_data=None):\n",
        "    if start_date is None:\n",
        "        start_date = datetime.now()\n",
        "\n",
        "    # Initialize empty lists to store results\n",
        "    num_friends_per_month = []\n",
        "    num_friends_of_friends_per_month = []\n",
        "\n",
        "    # Iterate over each month from 0 to 12\n",
        "    for i in range(13):\n",
        "        # Calculate the start date and end date for the current month\n",
        "        current_date = start_date - relativedelta(months=i)\n",
        "        start_date_str = current_date.replace(day=1).strftime('%Y-%m-%d')\n",
        "        end_date_str = current_date.replace(day=calendar.monthrange(current_date.year, current_date.month)[1]).strftime('%Y-%m-%d')\n",
        "\n",
        "        # Filter transactions within the current month\n",
        "        monthly_transactions = venmo_data \\\n",
        "            .filter((year(\"datetime\") == current_date.year) & (month(\"datetime\") == current_date.month))\n",
        "\n",
        "        # Calculate friends and friends of friends for the current month\n",
        "        user_friends, user_friends_of_friends = find_friends_and_friends_of_friends(user_id)\n",
        "\n",
        "        # Count the number of distinct friends and friends of friends\n",
        "        num_friends = user_friends.count()\n",
        "        num_friends_of_friends = user_friends_of_friends.count()\n",
        "\n",
        "        # Append the counts to the result lists\n",
        "        num_friends_per_month.append((start_date_str, num_friends))\n",
        "        num_friends_of_friends_per_month.append((start_date_str, num_friends_of_friends))\n",
        "\n",
        "    return num_friends_per_month, num_friends_of_friends_per_month\n",
        "\n",
        "# Sample user_id\n",
        "user_id = 1218774\n",
        "\n",
        "# Calculate social network metrics for the sample user\n",
        "num_friends_per_month, num_friends_of_friends_per_month = calculate_social_network_metrics(user_id, venmo_data=venmo_data)\n",
        "\n",
        "# Print the results\n",
        "print(\"Number of Friends per Month:\")\n",
        "for month, count in num_friends_per_month:\n",
        "    print(\"Month {}: {}\".format(month, count))\n",
        "\n",
        "print(\"\\nNumber of Friends of Friends per Month:\")\n",
        "for month, count in num_friends_of_friends_per_month:\n",
        "    print(\"Month {}: {}\".format(month, count))"
      ],
      "metadata": {
        "colab": {
          "base_uri": "https://localhost:8080/"
        },
        "id": "k8adwZmG8GCc",
        "outputId": "8fc99ffd-7368-489d-8006-f4cee7735ce3"
      },
      "execution_count": null,
      "outputs": [
        {
          "output_type": "stream",
          "name": "stdout",
          "text": [
            "Number of Friends per Month:\n",
            "Month 2024-06-01: 5\n",
            "Month 2024-05-01: 5\n",
            "Month 2024-04-01: 5\n",
            "Month 2024-03-01: 5\n",
            "Month 2024-02-01: 5\n",
            "Month 2024-01-01: 5\n",
            "Month 2023-12-01: 5\n",
            "Month 2023-11-01: 5\n",
            "Month 2023-10-01: 5\n",
            "Month 2023-09-01: 5\n",
            "Month 2023-08-01: 5\n",
            "Month 2023-07-01: 5\n",
            "Month 2023-06-01: 5\n",
            "\n",
            "Number of Friends of Friends per Month:\n",
            "Month 2024-06-01: 36\n",
            "Month 2024-05-01: 36\n",
            "Month 2024-04-01: 36\n",
            "Month 2024-03-01: 36\n",
            "Month 2024-02-01: 36\n",
            "Month 2024-01-01: 36\n",
            "Month 2023-12-01: 36\n",
            "Month 2023-11-01: 36\n",
            "Month 2023-10-01: 36\n",
            "Month 2023-09-01: 36\n",
            "Month 2023-08-01: 36\n",
            "Month 2023-07-01: 36\n",
            "Month 2023-06-01: 36\n"
          ]
        }
      ]
    },
    {
      "cell_type": "markdown",
      "source": [
        "Extracting unique user ids and creating a dataframe with the number of friends and friends of friends."
      ],
      "metadata": {
        "id": "86N-1su_dD1s"
      }
    },
    {
      "cell_type": "code",
      "source": [
        "user_ids = venmo_data.select(col(\"user1\").alias(\"user_id\")).union(venmo_data.select(col(\"user2\").alias(\"user_id\"))).distinct()\n",
        "\n",
        "# Function to get friends and friends of friends\n",
        "def find_friends_and_friends_of_friends(user_id, venmo_data):\n",
        "    # Direct friends\n",
        "    friends = venmo_data.filter((col(\"user1\") == user_id) | (col(\"user2\") == user_id)) \\\n",
        "                        .select(col(\"user1\"), col(\"user2\")) \\\n",
        "                        .withColumn(\"friend\", lit(user_id)) \\\n",
        "                        .withColumn(\"direct_friend\", explode(array(col(\"user1\"), col(\"user2\")))) \\\n",
        "                        .filter(col(\"direct_friend\") != user_id) \\\n",
        "                        .select(\"direct_friend\").distinct()\n",
        "\n",
        "    # Friends of friends\n",
        "    friends_list = [row.direct_friend for row in friends.collect()]\n",
        "    friends_of_friends = venmo_data.filter((col(\"user1\").isin(friends_list)) | (col(\"user2\").isin(friends_list))) \\\n",
        "                                   .select(col(\"user1\"), col(\"user2\")) \\\n",
        "                                   .withColumn(\"friend_of_friend\", explode(array(col(\"user1\"), col(\"user2\")))) \\\n",
        "                                   .filter(~col(\"friend_of_friend\").isin(friends_list + [user_id])) \\\n",
        "                                   .select(\"friend_of_friend\").distinct()\n",
        "\n",
        "    return friends, friends_of_friends\n",
        "\n",
        "# Calculate metrics for each user\n",
        "results = []\n",
        "for row in user_ids.collect():\n",
        "    user_id = row[\"user_id\"]\n",
        "    user_friends, user_friends_of_friends = find_friends_and_friends_of_friends(user_id, venmo_data)\n",
        "    num_friends = user_friends.count()\n",
        "    num_friends_of_friends = user_friends_of_friends.count()\n",
        "    results.append((user_id, num_friends, num_friends_of_friends))\n",
        "\n",
        "# Create a DataFrame from the results\n",
        "columns = [\"user_id\", \"number_of_friends\", \"number_of_friends_of_friends\"]\n",
        "results_df = spark.createDataFrame(results, columns)\n",
        "\n",
        "# Show the results DataFrame\n",
        "results_df.show()"
      ],
      "metadata": {
        "id": "yQ51PC4XXKCP"
      },
      "execution_count": null,
      "outputs": []
    },
    {
      "cell_type": "markdown",
      "source": [
        "#### **ii) Clustering coefficient of a user's network**"
      ],
      "metadata": {
        "id": "t-szN46KVQKA"
      }
    },
    {
      "cell_type": "code",
      "source": [
        "import networkx as nx\n",
        "\n",
        "def calculate_clustering_coefficient(user_id, venmo_data):\n",
        "    # Create a graph\n",
        "    G = nx.Graph()\n",
        "\n",
        "    # Add edges based on transactions\n",
        "    transactions = venmo_data.select(\"user1\", \"user2\").distinct().collect()\n",
        "    for transaction in transactions:\n",
        "        G.add_edge(transaction['user1'], transaction['user2'])\n",
        "\n",
        "    # Calculate clustering coefficient for the user\n",
        "    clustering_coefficient = nx.clustering(G, user_id)\n",
        "\n",
        "    return clustering_coefficient\n",
        "\n",
        "# Sample user_id\n",
        "user_id = 1218774\n",
        "\n",
        "# Calculate clustering coefficient for the sample user\n",
        "clustering_coefficient = calculate_clustering_coefficient(user_id, venmo_data)\n",
        "\n",
        "# Print the result\n",
        "print(f\"Clustering Coefficient for User {user_id}: {clustering_coefficient:.4f}\")"
      ],
      "metadata": {
        "colab": {
          "base_uri": "https://localhost:8080/"
        },
        "id": "uH9v3HeP9OVF",
        "outputId": "7ed78455-0d39-4e6e-e45b-e61cdd96baab"
      },
      "execution_count": null,
      "outputs": [
        {
          "output_type": "stream",
          "name": "stdout",
          "text": [
            "Clustering Coefficient for User 1218774: 0.2000\n"
          ]
        }
      ]
    },
    {
      "cell_type": "markdown",
      "source": [
        "#### **iii) Calculate the page rank of each user**\n",
        "\n",
        "Facing issues in getting GraphFrames to run. Some installation issue. We've implemented the code logic."
      ],
      "metadata": {
        "id": "45gL8dx0VW9t"
      }
    },
    {
      "cell_type": "code",
      "source": [
        "# Prepare vertices and edges for GraphFrame\n",
        "vertices = venmo_data.selectExpr(\"user1 as id\").union(venmo_data.selectExpr(\"user2 as id\")).distinct()\n",
        "edges = venmo_data.selectExpr(\"user1 as src\", \"user2 as dst\").distinct()\n",
        "\n",
        "# Create a GraphFrame\n",
        "graph = GraphFrame(vertices, edges)\n",
        "\n",
        "# Calculate PageRank\n",
        "pagerank_results = graph.pageRank(resetProbability=0.15, maxIter=10)\n",
        "\n",
        "# Show PageRank results\n",
        "pagerank_results.vertices.orderBy(\"pagerank\", ascending=False).show()\n",
        "\n",
        "# Calculate PageRank for a specific user\n",
        "def calculate_user_pagerank(user_id, pagerank_results):\n",
        "    user_pagerank = pagerank_results.vertices.filter(pagerank_results.vertices.id == user_id).select(\"pagerank\").collect()\n",
        "    if user_pagerank:\n",
        "        return user_pagerank[0][\"pagerank\"]\n",
        "    else:\n",
        "        return None\n",
        "\n",
        "# Sample user_id\n",
        "user_id = 1218774\n",
        "\n",
        "# Calculate PageRank for the sample user\n",
        "user_pagerank = calculate_user_pagerank(user_id, pagerank_results)\n",
        "\n",
        "# Print the result\n",
        "print(f\"PageRank for User {user_id}: {user_pagerank:.4f}\" if user_pagerank is not None else f\"User {user_id} not found.\")"
      ],
      "metadata": {
        "id": "F3rxr9F8VuIL"
      },
      "execution_count": null,
      "outputs": []
    }
  ]
}